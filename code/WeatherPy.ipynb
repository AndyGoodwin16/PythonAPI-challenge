{
 "cells": [
  {
   "cell_type": "markdown",
   "metadata": {},
   "source": [
    "# WeatherPy\n",
    "----\n",
    "\n",
    "#### Note\n",
    "* Instructions have been included for each segment. You do not have to follow them exactly, but they are included to help you think through the steps."
   ]
  },
  {
   "cell_type": "code",
   "execution_count": 1,
   "metadata": {
    "scrolled": true
   },
   "outputs": [],
   "source": [
    "# Dependencies and Setup\n",
    "import matplotlib.pyplot as plt\n",
    "import pandas as pd\n",
    "import numpy as np\n",
    "import requests\n",
    "import time\n",
    "from scipy.stats import linregress\n",
    "\n",
    "# Import API key\n",
    "from api_keys import weather_api_key\n",
    "\n",
    "# Incorporated citipy to determine city based on latitude and longitude\n",
    "from citipy import citipy\n",
    "\n",
    "# Output File (CSV)\n",
    "output_data_file = \"output_data/cities.csv\"\n",
    "\n",
    "# Range of latitudes and longitudes\n",
    "lat_range = (-90, 90)\n",
    "lng_range = (-180, 180)"
   ]
  },
  {
   "cell_type": "markdown",
   "metadata": {},
   "source": [
    "## Generate Cities List"
   ]
  },
  {
   "cell_type": "code",
   "execution_count": 2,
   "metadata": {},
   "outputs": [
    {
     "data": {
      "text/plain": [
       "626"
      ]
     },
     "execution_count": 2,
     "metadata": {},
     "output_type": "execute_result"
    }
   ],
   "source": [
    "# List for holding lat_lngs and cities\n",
    "lat_lngs = []\n",
    "cities = []\n",
    "\n",
    "# Create a set of random lat and lng combinations\n",
    "lats = np.random.uniform(lat_range[0], lat_range[1], size=1500)\n",
    "lngs = np.random.uniform(lng_range[0], lng_range[1], size=1500)\n",
    "lat_lngs = zip(lats, lngs)\n",
    "\n",
    "# Identify nearest city for each lat, lng combination\n",
    "for lat_lng in lat_lngs:\n",
    "    city = citipy.nearest_city(lat_lng[0], lat_lng[1]).city_name\n",
    "    \n",
    "    # If the city is unique, then add it to a our cities list\n",
    "    if city not in cities:\n",
    "        cities.append(city)\n",
    "\n",
    "# Print the city count to confirm sufficient count\n",
    "len(cities)"
   ]
  },
  {
   "cell_type": "markdown",
   "metadata": {},
   "source": [
    "### Perform API Calls\n",
    "* Perform a weather check on each city using a series of successive API calls.\n",
    "* Include a print log of each city as it'sbeing processed (with the city number and city name).\n"
   ]
  },
  {
   "cell_type": "code",
   "execution_count": 3,
   "metadata": {
    "scrolled": true,
    "tags": []
   },
   "outputs": [
    {
     "name": "stdout",
     "output_type": "stream",
     "text": [
      "Beginning Data Retrieval\n",
      "-----------------------------\n",
      "Processing Record 1 of Set 1 | jamestown\n",
      "Processing Record 2 of Set 1 | norman wells\n",
      "Processing Record 3 of Set 1 | vaini\n",
      "Processing Record 4 of Set 1 | belushya guba\n",
      "City not found. Skipping...\n",
      "Processing Record 5 of Set 1 | kapaa\n",
      "Processing Record 6 of Set 1 | dengzhou\n",
      "Processing Record 7 of Set 1 | labuhan\n",
      "Processing Record 8 of Set 1 | nizhneyansk\n",
      "City not found. Skipping...\n",
      "Processing Record 9 of Set 1 | saint-pierre\n",
      "Processing Record 10 of Set 1 | mataura\n",
      "Processing Record 11 of Set 1 | punta arenas\n",
      "Processing Record 12 of Set 1 | acari\n",
      "Processing Record 13 of Set 1 | chuy\n",
      "Processing Record 14 of Set 1 | bredasdorp\n",
      "Processing Record 15 of Set 1 | rikitea\n",
      "Processing Record 16 of Set 1 | dikson\n",
      "Processing Record 17 of Set 1 | olga\n",
      "Processing Record 18 of Set 1 | rennes\n",
      "Processing Record 19 of Set 1 | matay\n",
      "Processing Record 20 of Set 1 | manokwari\n",
      "Processing Record 21 of Set 1 | bambous virieux\n",
      "Processing Record 22 of Set 1 | fairbanks\n",
      "Processing Record 23 of Set 1 | kununurra\n",
      "Processing Record 24 of Set 1 | ozgon\n",
      "City not found. Skipping...\n",
      "Processing Record 25 of Set 1 | lakselv\n",
      "Processing Record 26 of Set 1 | bluff\n",
      "Processing Record 27 of Set 1 | portland\n",
      "Processing Record 28 of Set 1 | poum\n",
      "Processing Record 29 of Set 1 | kavieng\n",
      "Processing Record 30 of Set 1 | bubaque\n",
      "Processing Record 31 of Set 1 | taolanaro\n",
      "City not found. Skipping...\n",
      "Processing Record 32 of Set 1 | ushuaia\n",
      "Processing Record 33 of Set 1 | yulara\n",
      "Processing Record 34 of Set 1 | cape town\n",
      "Processing Record 35 of Set 1 | donskoye\n",
      "Processing Record 36 of Set 1 | ejido\n",
      "Processing Record 37 of Set 1 | asilah\n",
      "Processing Record 38 of Set 1 | novoagansk\n",
      "Processing Record 39 of Set 1 | busselton\n",
      "Processing Record 40 of Set 1 | grand centre\n",
      "City not found. Skipping...\n",
      "Processing Record 41 of Set 1 | araouane\n",
      "Processing Record 42 of Set 1 | illoqqortoormiut\n",
      "City not found. Skipping...\n",
      "Processing Record 43 of Set 1 | mahanoro\n",
      "Processing Record 44 of Set 1 | hermanus\n",
      "Processing Record 45 of Set 1 | iqaluit\n",
      "Processing Record 46 of Set 1 | nikolskoye\n",
      "Processing Record 47 of Set 1 | zhigansk\n",
      "Processing Record 48 of Set 1 | east london\n",
      "Processing Record 49 of Set 1 | severo-kurilsk\n",
      "Processing Record 1 of Set 2 | siva\n",
      "Processing Record 2 of Set 2 | kushima\n",
      "Processing Record 3 of Set 2 | klaksvik\n",
      "Processing Record 4 of Set 2 | iskateley\n",
      "Processing Record 5 of Set 2 | new norfolk\n",
      "Processing Record 6 of Set 2 | talaya\n",
      "Processing Record 7 of Set 2 | thompson\n",
      "Processing Record 8 of Set 2 | vanimo\n",
      "Processing Record 9 of Set 2 | mayumba\n",
      "Processing Record 10 of Set 2 | bindki\n",
      "Processing Record 11 of Set 2 | saint-augustin\n",
      "Processing Record 12 of Set 2 | osa\n",
      "Processing Record 13 of Set 2 | allapalli\n",
      "Processing Record 14 of Set 2 | qaqortoq\n",
      "Processing Record 15 of Set 2 | butaritari\n",
      "Processing Record 16 of Set 2 | colares\n",
      "Processing Record 17 of Set 2 | ahipara\n",
      "Processing Record 18 of Set 2 | avarua\n",
      "Processing Record 19 of Set 2 | esperance\n",
      "Processing Record 20 of Set 2 | qaanaaq\n",
      "Processing Record 21 of Set 2 | yerbogachen\n",
      "Processing Record 22 of Set 2 | castro\n",
      "Processing Record 23 of Set 2 | san cristobal\n",
      "Processing Record 24 of Set 2 | samalaeulu\n",
      "City not found. Skipping...\n",
      "Processing Record 25 of Set 2 | hilo\n",
      "Processing Record 26 of Set 2 | marfino\n",
      "Processing Record 27 of Set 2 | san patricio\n",
      "Processing Record 28 of Set 2 | matara\n",
      "Processing Record 29 of Set 2 | albany\n",
      "Processing Record 30 of Set 2 | ucluelet\n",
      "Processing Record 31 of Set 2 | karatsu\n",
      "Processing Record 32 of Set 2 | ribeira grande\n",
      "Processing Record 33 of Set 2 | san jose\n",
      "Processing Record 34 of Set 2 | ilulissat\n",
      "Processing Record 35 of Set 2 | anadyr\n",
      "Processing Record 36 of Set 2 | lavrentiya\n",
      "Processing Record 37 of Set 2 | sinnamary\n",
      "Processing Record 38 of Set 2 | nkayi\n",
      "Processing Record 39 of Set 2 | lebu\n",
      "Processing Record 40 of Set 2 | port alfred\n",
      "Processing Record 41 of Set 2 | kota belud\n",
      "Processing Record 42 of Set 2 | haines junction\n",
      "Processing Record 43 of Set 2 | kaffrine\n",
      "Processing Record 44 of Set 2 | hobart\n",
      "Processing Record 45 of Set 2 | ainazi\n",
      "Processing Record 46 of Set 2 | gazli\n",
      "Processing Record 47 of Set 2 | broome\n",
      "Processing Record 48 of Set 2 | felidhoo\n",
      "City not found. Skipping...\n",
      "Processing Record 49 of Set 2 | saint-philippe\n",
      "Processing Record 1 of Set 3 | chissamba\n",
      "Processing Record 2 of Set 3 | jimani\n",
      "Processing Record 3 of Set 3 | pisco\n",
      "Processing Record 4 of Set 3 | guasdualito\n",
      "Processing Record 5 of Set 3 | aksu\n",
      "Processing Record 6 of Set 3 | havre-saint-pierre\n",
      "Processing Record 7 of Set 3 | marsa matruh\n",
      "Processing Record 8 of Set 3 | denpasar\n",
      "Processing Record 9 of Set 3 | praia\n",
      "Processing Record 10 of Set 3 | pitimbu\n",
      "Processing Record 11 of Set 3 | chokurdakh\n",
      "Processing Record 12 of Set 3 | soyo\n",
      "Processing Record 13 of Set 3 | amderma\n",
      "City not found. Skipping...\n",
      "Processing Record 14 of Set 3 | attawapiskat\n",
      "City not found. Skipping...\n",
      "Processing Record 15 of Set 3 | upernavik\n",
      "Processing Record 16 of Set 3 | sao joao da barra\n",
      "Processing Record 17 of Set 3 | ardakan\n",
      "Processing Record 18 of Set 3 | plastun\n",
      "Processing Record 19 of Set 3 | mikhaylovka\n",
      "Processing Record 20 of Set 3 | beloha\n",
      "Processing Record 21 of Set 3 | zanjan\n",
      "Processing Record 22 of Set 3 | kargat\n",
      "Processing Record 23 of Set 3 | disna\n",
      "Processing Record 24 of Set 3 | vila franca do campo\n",
      "Processing Record 25 of Set 3 | atuona\n",
      "Processing Record 26 of Set 3 | kodiak\n",
      "Processing Record 27 of Set 3 | samusu\n",
      "City not found. Skipping...\n",
      "Processing Record 28 of Set 3 | barrow\n",
      "Processing Record 29 of Set 3 | belmonte\n",
      "Processing Record 30 of Set 3 | meadow lake\n",
      "Processing Record 31 of Set 3 | catuday\n",
      "Processing Record 32 of Set 3 | putevka\n",
      "Processing Record 33 of Set 3 | biskamzha\n",
      "Processing Record 34 of Set 3 | asau\n",
      "Processing Record 35 of Set 3 | puerto ayora\n",
      "Processing Record 36 of Set 3 | barentsburg\n",
      "City not found. Skipping...\n",
      "Processing Record 37 of Set 3 | vianopolis\n",
      "Processing Record 38 of Set 3 | comodoro rivadavia\n",
      "Processing Record 39 of Set 3 | mar del plata\n",
      "Processing Record 40 of Set 3 | telimele\n",
      "Processing Record 41 of Set 3 | tasiilaq\n",
      "Processing Record 42 of Set 3 | victor harbor\n",
      "Processing Record 43 of Set 3 | manhattan\n",
      "Processing Record 44 of Set 3 | brae\n",
      "Processing Record 45 of Set 3 | bambanglipuro\n",
      "Processing Record 46 of Set 3 | utiroa\n",
      "City not found. Skipping...\n",
      "Processing Record 47 of Set 3 | baykit\n",
      "Processing Record 48 of Set 3 | leningradskiy\n",
      "Processing Record 49 of Set 3 | grindavik\n",
      "Processing Record 1 of Set 4 | geraldton\n",
      "Processing Record 2 of Set 4 | te anau\n",
      "Processing Record 3 of Set 4 | bethel\n",
      "Processing Record 4 of Set 4 | longyearbyen\n",
      "Processing Record 5 of Set 4 | georgetown\n",
      "Processing Record 6 of Set 4 | vaitupu\n",
      "City not found. Skipping...\n",
      "Processing Record 7 of Set 4 | chapais\n",
      "Processing Record 8 of Set 4 | hithadhoo\n",
      "Processing Record 9 of Set 4 | siuna\n",
      "Processing Record 10 of Set 4 | barcelona\n",
      "Processing Record 11 of Set 4 | marcona\n",
      "City not found. Skipping...\n",
      "Processing Record 12 of Set 4 | poya\n",
      "Processing Record 13 of Set 4 | fortuna\n",
      "Processing Record 14 of Set 4 | bathsheba\n",
      "Processing Record 15 of Set 4 | talawdi\n",
      "City not found. Skipping...\n",
      "Processing Record 16 of Set 4 | coquimbo\n",
      "Processing Record 17 of Set 4 | airai\n",
      "Processing Record 18 of Set 4 | gelemso\n",
      "Processing Record 19 of Set 4 | carnarvon\n",
      "Processing Record 20 of Set 4 | la rioja\n",
      "Processing Record 21 of Set 4 | ponta do sol\n",
      "Processing Record 22 of Set 4 | aksarka\n",
      "Processing Record 23 of Set 4 | korem\n",
      "Processing Record 24 of Set 4 | pevek\n",
      "Processing Record 25 of Set 4 | kabinda\n",
      "Processing Record 26 of Set 4 | mahebourg\n",
      "Processing Record 27 of Set 4 | fonte boa\n",
      "Processing Record 28 of Set 4 | zeya\n",
      "Processing Record 29 of Set 4 | davila\n",
      "Processing Record 30 of Set 4 | flinders\n",
      "Processing Record 31 of Set 4 | provideniya\n",
      "Processing Record 32 of Set 4 | lasa\n",
      "Processing Record 33 of Set 4 | taoudenni\n",
      "Processing Record 34 of Set 4 | husavik\n",
      "Processing Record 35 of Set 4 | kahului\n",
      "Processing Record 36 of Set 4 | kutum\n",
      "Processing Record 37 of Set 4 | sentyabrskiy\n",
      "City not found. Skipping...\n",
      "Processing Record 38 of Set 4 | isangel\n",
      "Processing Record 39 of Set 4 | naron\n",
      "Processing Record 40 of Set 4 | champasak\n",
      "Processing Record 41 of Set 4 | alice springs\n",
      "Processing Record 42 of Set 4 | kangaatsiaq\n",
      "Processing Record 43 of Set 4 | sanmenxia\n",
      "Processing Record 44 of Set 4 | ambatondrazaka\n",
      "Processing Record 45 of Set 4 | klyuchi\n",
      "Processing Record 46 of Set 4 | salalah\n",
      "Processing Record 47 of Set 4 | svetlogorsk\n",
      "Processing Record 48 of Set 4 | nuuk\n",
      "Processing Record 49 of Set 4 | khatanga\n",
      "Processing Record 1 of Set 5 | ustye\n",
      "Processing Record 2 of Set 5 | cambyreta\n",
      "City not found. Skipping...\n",
      "Processing Record 3 of Set 5 | nampula\n",
      "Processing Record 4 of Set 5 | lompoc\n",
      "Processing Record 5 of Set 5 | samarai\n",
      "Processing Record 6 of Set 5 | port lincoln\n",
      "Processing Record 7 of Set 5 | tarauaca\n",
      "Processing Record 8 of Set 5 | bada\n",
      "Processing Record 9 of Set 5 | chala\n",
      "Processing Record 10 of Set 5 | guerrero negro\n",
      "Processing Record 11 of Set 5 | mwingi\n",
      "Processing Record 12 of Set 5 | enumclaw\n",
      "Processing Record 13 of Set 5 | victoria\n",
      "Processing Record 14 of Set 5 | grand-santi\n",
      "Processing Record 15 of Set 5 | nanortalik\n",
      "Processing Record 16 of Set 5 | omboue\n",
      "Processing Record 17 of Set 5 | port hardy\n",
      "Processing Record 18 of Set 5 | monrovia\n",
      "Processing Record 19 of Set 5 | arlit\n",
      "Processing Record 20 of Set 5 | mahibadhoo\n",
      "Processing Record 21 of Set 5 | pinawa\n",
      "Processing Record 22 of Set 5 | parvatipuram\n",
      "Processing Record 23 of Set 5 | biryusinsk\n",
      "Processing Record 24 of Set 5 | yellowknife\n",
      "Processing Record 25 of Set 5 | jalu\n",
      "Processing Record 26 of Set 5 | nishihara\n",
      "Processing Record 27 of Set 5 | mys shmidta\n",
      "City not found. Skipping...\n",
      "Processing Record 28 of Set 5 | reconquista\n",
      "Processing Record 29 of Set 5 | birin\n",
      "Processing Record 30 of Set 5 | port elizabeth\n",
      "Processing Record 31 of Set 5 | acapulco\n",
      "Processing Record 32 of Set 5 | nome\n",
      "Processing Record 33 of Set 5 | vardo\n",
      "Processing Record 34 of Set 5 | hukuntsi\n",
      "Processing Record 35 of Set 5 | pangnirtung\n",
      "Processing Record 36 of Set 5 | yaring\n",
      "Processing Record 37 of Set 5 | dongsheng\n",
      "Processing Record 38 of Set 5 | jardim\n",
      "Processing Record 39 of Set 5 | talesh\n",
      "City not found. Skipping...\n",
      "Processing Record 40 of Set 5 | tigil\n",
      "Processing Record 41 of Set 5 | kloulklubed\n",
      "Processing Record 42 of Set 5 | mergui\n",
      "City not found. Skipping...\n",
      "Processing Record 43 of Set 5 | laguna\n",
      "Processing Record 44 of Set 5 | qostanay\n",
      "Processing Record 45 of Set 5 | northam\n",
      "Processing Record 46 of Set 5 | kristiansund\n",
      "Processing Record 47 of Set 5 | karymskoye\n",
      "Processing Record 48 of Set 5 | krasnoborsk\n",
      "Processing Record 49 of Set 5 | berdigestyakh\n",
      "Processing Record 1 of Set 6 | cherskiy\n",
      "Processing Record 2 of Set 6 | constitucion\n",
      "Processing Record 3 of Set 6 | santiago del estero\n",
      "Processing Record 4 of Set 6 | yeppoon\n",
      "Processing Record 5 of Set 6 | arraial do cabo\n",
      "Processing Record 6 of Set 6 | solnechnyy\n",
      "Processing Record 7 of Set 6 | san quintin\n",
      "Processing Record 8 of Set 6 | palana\n",
      "Processing Record 9 of Set 6 | wad rawah\n",
      "Processing Record 10 of Set 6 | christchurch\n",
      "Processing Record 11 of Set 6 | zhezkazgan\n",
      "Processing Record 12 of Set 6 | saleaula\n",
      "City not found. Skipping...\n",
      "Processing Record 13 of Set 6 | neuquen\n",
      "Processing Record 14 of Set 6 | dawson creek\n",
      "Processing Record 15 of Set 6 | bengkulu\n",
      "Processing Record 16 of Set 6 | pueblo\n",
      "Processing Record 17 of Set 6 | kintinku\n",
      "Processing Record 18 of Set 6 | arman\n",
      "Processing Record 19 of Set 6 | kerema\n",
      "Processing Record 20 of Set 6 | vredendal\n",
      "Processing Record 21 of Set 6 | srednekolymsk\n",
      "Processing Record 22 of Set 6 | yatou\n",
      "Processing Record 23 of Set 6 | nantucket\n",
      "Processing Record 24 of Set 6 | vestmannaeyjar\n",
      "Processing Record 25 of Set 6 | san-pedro\n",
      "Processing Record 26 of Set 6 | saint george\n",
      "Processing Record 27 of Set 6 | tsihombe\n",
      "City not found. Skipping...\n",
      "Processing Record 28 of Set 6 | chumikan\n",
      "Processing Record 29 of Set 6 | kadykchan\n",
      "City not found. Skipping...\n",
      "Processing Record 30 of Set 6 | rosarito\n",
      "Processing Record 31 of Set 6 | alofi\n",
      "Processing Record 32 of Set 6 | oum hadjer\n",
      "Processing Record 33 of Set 6 | santa rosa\n",
      "Processing Record 34 of Set 6 | dudinka\n",
      "Processing Record 35 of Set 6 | srikakulam\n",
      "Processing Record 36 of Set 6 | palmer\n",
      "Processing Record 37 of Set 6 | sayat\n",
      "Processing Record 38 of Set 6 | lashio\n",
      "Processing Record 39 of Set 6 | jatai\n",
      "Processing Record 40 of Set 6 | tura\n",
      "Processing Record 41 of Set 6 | bismarck\n",
      "Processing Record 42 of Set 6 | djibo\n",
      "Processing Record 43 of Set 6 | hirara\n",
      "Processing Record 44 of Set 6 | kemijarvi\n",
      "Processing Record 45 of Set 6 | warqla\n",
      "City not found. Skipping...\n",
      "Processing Record 46 of Set 6 | dingle\n",
      "Processing Record 47 of Set 6 | namibe\n",
      "Processing Record 48 of Set 6 | salamiyah\n",
      "Processing Record 49 of Set 6 | souillac\n",
      "Processing Record 1 of Set 7 | half moon bay\n",
      "Processing Record 2 of Set 7 | port moresby\n",
      "Processing Record 3 of Set 7 | hambantota\n",
      "Processing Record 4 of Set 7 | dolores\n",
      "Processing Record 5 of Set 7 | celestun\n",
      "Processing Record 6 of Set 7 | clovis\n",
      "Processing Record 7 of Set 7 | maneadero\n",
      "Processing Record 8 of Set 7 | parrita\n",
      "Processing Record 9 of Set 7 | moramanga\n",
      "Processing Record 10 of Set 7 | scottsburgh\n",
      "City not found. Skipping...\n",
      "Processing Record 11 of Set 7 | almeria\n",
      "Processing Record 12 of Set 7 | ishigaki\n",
      "Processing Record 13 of Set 7 | hamilton\n",
      "Processing Record 14 of Set 7 | sola\n",
      "Processing Record 15 of Set 7 | pingxiang\n",
      "Processing Record 16 of Set 7 | abu kamal\n",
      "Processing Record 17 of Set 7 | nisia floresta\n",
      "Processing Record 18 of Set 7 | kruisfontein\n",
      "Processing Record 19 of Set 7 | sao jose da coroa grande\n",
      "Processing Record 20 of Set 7 | chinna salem\n",
      "Processing Record 21 of Set 7 | toliary\n",
      "City not found. Skipping...\n",
      "Processing Record 22 of Set 7 | navolato\n",
      "Processing Record 23 of Set 7 | clyde river\n",
      "Processing Record 24 of Set 7 | piopio\n",
      "Processing Record 25 of Set 7 | conde\n",
      "Processing Record 26 of Set 7 | rio gallegos\n",
      "Processing Record 27 of Set 7 | aflu\n",
      "City not found. Skipping...\n",
      "Processing Record 28 of Set 7 | kuminskiy\n",
      "Processing Record 29 of Set 7 | chikhli\n",
      "Processing Record 30 of Set 7 | emba\n",
      "Processing Record 31 of Set 7 | jacksonville\n",
      "Processing Record 32 of Set 7 | wangqing\n",
      "Processing Record 33 of Set 7 | yangambi\n",
      "Processing Record 34 of Set 7 | zacatecoluca\n",
      "Processing Record 35 of Set 7 | karaul\n",
      "City not found. Skipping...\n",
      "Processing Record 36 of Set 7 | port macquarie\n",
      "Processing Record 37 of Set 7 | boguchany\n",
      "Processing Record 38 of Set 7 | keti bandar\n",
      "Processing Record 39 of Set 7 | mackay\n",
      "Processing Record 40 of Set 7 | coahuayana\n",
      "Processing Record 41 of Set 7 | temerloh\n",
      "Processing Record 42 of Set 7 | hasaki\n",
      "Processing Record 43 of Set 7 | saint-joseph\n",
      "Processing Record 44 of Set 7 | kattivakkam\n",
      "Processing Record 45 of Set 7 | abu zabad\n",
      "Processing Record 46 of Set 7 | kavaratti\n",
      "Processing Record 47 of Set 7 | el jicaro\n",
      "Processing Record 48 of Set 7 | sampit\n",
      "Processing Record 49 of Set 7 | mehamn\n",
      "Processing Record 1 of Set 8 | narsaq\n",
      "Processing Record 2 of Set 8 | shelburne\n",
      "Processing Record 3 of Set 8 | grimari\n",
      "City not found. Skipping...\n",
      "Processing Record 4 of Set 8 | sorgun\n",
      "Processing Record 5 of Set 8 | eskasem\n",
      "City not found. Skipping...\n",
      "Processing Record 6 of Set 8 | lagoa\n",
      "Processing Record 7 of Set 8 | nouadhibou\n",
      "Processing Record 8 of Set 8 | talnakh\n",
      "Processing Record 9 of Set 8 | ekhabi\n",
      "Processing Record 10 of Set 8 | paradwip\n",
      "City not found. Skipping...\n",
      "Processing Record 11 of Set 8 | paamiut\n",
      "Processing Record 12 of Set 8 | yar-sale\n",
      "Processing Record 13 of Set 8 | zhangye\n",
      "Processing Record 14 of Set 8 | ouallam\n",
      "Processing Record 15 of Set 8 | hangu\n",
      "Processing Record 16 of Set 8 | rungata\n",
      "City not found. Skipping...\n",
      "Processing Record 17 of Set 8 | baturaja\n",
      "Processing Record 18 of Set 8 | torbay\n",
      "Processing Record 19 of Set 8 | guaruja\n",
      "Processing Record 20 of Set 8 | ravar\n",
      "Processing Record 21 of Set 8 | port blair\n",
      "Processing Record 22 of Set 8 | concordia\n",
      "Processing Record 23 of Set 8 | saldanha\n",
      "Processing Record 24 of Set 8 | rassvet\n",
      "Processing Record 25 of Set 8 | faanui\n",
      "Processing Record 26 of Set 8 | kieta\n",
      "Processing Record 27 of Set 8 | sitka\n",
      "Processing Record 28 of Set 8 | barreirinha\n",
      "Processing Record 29 of Set 8 | mount isa\n",
      "Processing Record 30 of Set 8 | sorland\n",
      "Processing Record 31 of Set 8 | belaya gora\n",
      "Processing Record 32 of Set 8 | avera\n",
      "Processing Record 33 of Set 8 | sambava\n",
      "Processing Record 34 of Set 8 | shumskiy\n",
      "Processing Record 35 of Set 8 | pochutla\n",
      "Processing Record 36 of Set 8 | novochernorechenskiy\n",
      "Processing Record 37 of Set 8 | finnsnes\n",
      "Processing Record 38 of Set 8 | bellefontaine\n",
      "Processing Record 39 of Set 8 | homer\n",
      "Processing Record 40 of Set 8 | ransang\n",
      "Processing Record 41 of Set 8 | mpulungu\n",
      "Processing Record 42 of Set 8 | tulle\n",
      "Processing Record 43 of Set 8 | chihuahua\n",
      "Processing Record 44 of Set 8 | menomonee falls\n",
      "Processing Record 45 of Set 8 | aleksandrovsk-sakhalinskiy\n",
      "Processing Record 46 of Set 8 | saint anthony\n",
      "Processing Record 47 of Set 8 | rantepao\n",
      "Processing Record 48 of Set 8 | pendleton\n",
      "Processing Record 49 of Set 8 | port-gentil\n",
      "Processing Record 1 of Set 9 | bereda\n",
      "Processing Record 2 of Set 9 | san juan\n",
      "Processing Record 3 of Set 9 | urumqi\n",
      "Processing Record 4 of Set 9 | mazagao\n",
      "Processing Record 5 of Set 9 | waipawa\n",
      "Processing Record 6 of Set 9 | buin\n",
      "Processing Record 7 of Set 9 | brenham\n",
      "Processing Record 8 of Set 9 | moose jaw\n",
      "Processing Record 9 of Set 9 | tuatapere\n",
      "Processing Record 10 of Set 9 | tuktoyaktuk\n",
      "Processing Record 11 of Set 9 | samfya\n",
      "Processing Record 12 of Set 9 | saskylakh\n",
      "Processing Record 13 of Set 9 | puerto leguizamo\n",
      "Processing Record 14 of Set 9 | ozinki\n",
      "Processing Record 15 of Set 9 | faya\n",
      "Processing Record 16 of Set 9 | shima\n",
      "Processing Record 17 of Set 9 | khandyga\n",
      "Processing Record 18 of Set 9 | nara\n",
      "Processing Record 19 of Set 9 | dzhebariki-khaya\n",
      "Processing Record 20 of Set 9 | cortez\n",
      "Processing Record 21 of Set 9 | korla\n",
      "Processing Record 22 of Set 9 | galich\n",
      "Processing Record 23 of Set 9 | cozumel\n",
      "Processing Record 24 of Set 9 | slavjanovo\n",
      "Processing Record 25 of Set 9 | the valley\n",
      "Processing Record 26 of Set 9 | longonjo\n",
      "Processing Record 27 of Set 9 | ankazoabo\n",
      "Processing Record 28 of Set 9 | tilichiki\n",
      "Processing Record 29 of Set 9 | trzebiatow\n",
      "Processing Record 30 of Set 9 | antalaha\n",
      "Processing Record 31 of Set 9 | berlevag\n",
      "Processing Record 32 of Set 9 | los lunas\n",
      "Processing Record 33 of Set 9 | sao bento do sul\n",
      "Processing Record 34 of Set 9 | krasnoarmeysk\n",
      "Processing Record 35 of Set 9 | codrington\n",
      "Processing Record 36 of Set 9 | la ronge\n",
      "Processing Record 37 of Set 9 | kwinana\n",
      "Processing Record 38 of Set 9 | saint-georges\n",
      "Processing Record 39 of Set 9 | chicama\n",
      "Processing Record 40 of Set 9 | satitoa\n",
      "City not found. Skipping...\n",
      "Processing Record 41 of Set 9 | bam\n",
      "Processing Record 42 of Set 9 | viedma\n",
      "Processing Record 43 of Set 9 | leshukonskoye\n",
      "Processing Record 44 of Set 9 | kyaikkami\n",
      "Processing Record 45 of Set 9 | muncar\n",
      "Processing Record 46 of Set 9 | tulagi\n",
      "Processing Record 47 of Set 9 | ambon\n",
      "Processing Record 48 of Set 9 | mandalgovi\n",
      "Processing Record 49 of Set 9 | dulovo\n",
      "Processing Record 1 of Set 10 | mount gambier\n",
      "Processing Record 2 of Set 10 | ostrovnoy\n",
      "Processing Record 3 of Set 10 | srandakan\n",
      "Processing Record 4 of Set 10 | kamenskoye\n",
      "City not found. Skipping...\n",
      "Processing Record 5 of Set 10 | sao felix do xingu\n",
      "Processing Record 6 of Set 10 | upington\n",
      "Processing Record 7 of Set 10 | balakhninskiy\n",
      "Processing Record 8 of Set 10 | fort nelson\n",
      "Processing Record 9 of Set 10 | quatre cocos\n",
      "Processing Record 10 of Set 10 | requena\n",
      "Processing Record 11 of Set 10 | sao gabriel da cachoeira\n",
      "Processing Record 12 of Set 10 | aromashevo\n",
      "Processing Record 13 of Set 10 | nha trang\n",
      "Processing Record 14 of Set 10 | alihe\n",
      "Processing Record 15 of Set 10 | kaitangata\n",
      "Processing Record 16 of Set 10 | umzimvubu\n",
      "City not found. Skipping...\n",
      "Processing Record 17 of Set 10 | uyuni\n",
      "Processing Record 18 of Set 10 | lichuan\n",
      "Processing Record 19 of Set 10 | ayan\n",
      "Processing Record 20 of Set 10 | lata\n",
      "Processing Record 21 of Set 10 | coolum beach\n",
      "Processing Record 22 of Set 10 | san andres\n",
      "Processing Record 23 of Set 10 | smithfield\n",
      "Processing Record 24 of Set 10 | tra vinh\n",
      "Processing Record 25 of Set 10 | muhos\n",
      "Processing Record 26 of Set 10 | sogdiondon\n",
      "City not found. Skipping...\n",
      "Processing Record 27 of Set 10 | bria\n",
      "Processing Record 28 of Set 10 | puerto pinasco\n",
      "City not found. Skipping...\n",
      "Processing Record 29 of Set 10 | naze\n",
      "Processing Record 30 of Set 10 | havelock\n",
      "Processing Record 31 of Set 10 | atakpame\n",
      "Processing Record 32 of Set 10 | gat\n",
      "Processing Record 33 of Set 10 | palu\n",
      "Processing Record 34 of Set 10 | dubenskiy\n",
      "City not found. Skipping...\n",
      "Processing Record 35 of Set 10 | santa isabel do rio negro\n",
      "Processing Record 36 of Set 10 | gravdal\n",
      "Processing Record 37 of Set 10 | maputo\n",
      "Processing Record 38 of Set 10 | senmonorom\n",
      "City not found. Skipping...\n",
      "Processing Record 39 of Set 10 | sioux lookout\n",
      "Processing Record 40 of Set 10 | neiafu\n",
      "Processing Record 41 of Set 10 | betong\n",
      "Processing Record 42 of Set 10 | gland\n",
      "Processing Record 43 of Set 10 | gedo\n",
      "Processing Record 44 of Set 10 | tondano\n",
      "Processing Record 45 of Set 10 | falmouth\n",
      "Processing Record 46 of Set 10 | baishishan\n",
      "Processing Record 47 of Set 10 | pasighat\n",
      "Processing Record 48 of Set 10 | cayenne\n",
      "Processing Record 49 of Set 10 | roswell\n",
      "Processing Record 1 of Set 11 | acajutla\n",
      "Processing Record 2 of Set 11 | beruni\n",
      "City not found. Skipping...\n",
      "Processing Record 3 of Set 11 | dunedin\n",
      "Processing Record 4 of Set 11 | roald\n",
      "Processing Record 5 of Set 11 | nioro\n",
      "Processing Record 6 of Set 11 | dzhusaly\n",
      "City not found. Skipping...\n",
      "Processing Record 7 of Set 11 | itarema\n",
      "Processing Record 8 of Set 11 | laje\n",
      "Processing Record 9 of Set 11 | bow island\n",
      "Processing Record 10 of Set 11 | padang\n",
      "Processing Record 11 of Set 11 | cimarron hills\n",
      "Processing Record 12 of Set 11 | nemuro\n",
      "Processing Record 13 of Set 11 | rawson\n",
      "Processing Record 14 of Set 11 | san policarpo\n",
      "Processing Record 15 of Set 11 | porosozero\n",
      "Processing Record 16 of Set 11 | pulaski\n",
      "Processing Record 17 of Set 11 | langenlois\n",
      "Processing Record 18 of Set 11 | omsukchan\n",
      "Processing Record 19 of Set 11 | necochea\n",
      "Processing Record 20 of Set 11 | makung\n",
      "City not found. Skipping...\n",
      "Processing Record 21 of Set 11 | ngukurr\n",
      "City not found. Skipping...\n",
      "Processing Record 22 of Set 11 | ugoofaaru\n",
      "Processing Record 23 of Set 11 | huarmey\n",
      "Processing Record 24 of Set 11 | blackfoot\n",
      "Processing Record 25 of Set 11 | witrivier\n",
      "City not found. Skipping...\n",
      "Processing Record 26 of Set 11 | springbok\n",
      "Processing Record 27 of Set 11 | dezhou\n",
      "Processing Record 28 of Set 11 | dalby\n",
      "Processing Record 29 of Set 11 | aykhal\n",
      "Processing Record 30 of Set 11 | ponta delgada\n",
      "Processing Record 31 of Set 11 | ballina\n",
      "Processing Record 32 of Set 11 | chernitsyno\n",
      "Processing Record 33 of Set 11 | santa marta\n",
      "Processing Record 34 of Set 11 | roma\n",
      "Processing Record 35 of Set 11 | otane\n",
      "Processing Record 36 of Set 11 | palabuhanratu\n",
      "City not found. Skipping...\n",
      "Processing Record 37 of Set 11 | shakawe\n",
      "Processing Record 38 of Set 11 | olavarria\n",
      "Processing Record 39 of Set 11 | hays\n",
      "Processing Record 40 of Set 11 | wanaka\n",
      "Processing Record 41 of Set 11 | chifeng\n",
      "Processing Record 42 of Set 11 | fort saint john\n",
      "City not found. Skipping...\n",
      "Processing Record 43 of Set 11 | mahina\n",
      "Processing Record 44 of Set 11 | inhambane\n",
      "Processing Record 45 of Set 11 | okhotsk\n",
      "Processing Record 46 of Set 11 | shache\n",
      "Processing Record 47 of Set 11 | adrar\n",
      "Processing Record 48 of Set 11 | meyungs\n",
      "City not found. Skipping...\n",
      "Processing Record 49 of Set 11 | rundu\n",
      "Processing Record 1 of Set 12 | ngoro\n",
      "Processing Record 2 of Set 12 | amga\n",
      "Processing Record 3 of Set 12 | lakatoro\n",
      "Processing Record 4 of Set 12 | rorvik\n",
      "Processing Record 5 of Set 12 | sterling\n",
      "Processing Record 6 of Set 12 | qasigiannguit\n",
      "Processing Record 7 of Set 12 | acarau\n",
      "Processing Record 8 of Set 12 | vila velha\n",
      "Processing Record 9 of Set 12 | primorsk\n",
      "Processing Record 10 of Set 12 | touros\n",
      "Processing Record 11 of Set 12 | kiama\n",
      "Processing Record 12 of Set 12 | navsari\n",
      "Processing Record 13 of Set 12 | sao filipe\n",
      "Processing Record 14 of Set 12 | lazaro cardenas\n",
      "Processing Record 15 of Set 12 | asopos\n",
      "Processing Record 16 of Set 12 | port hedland\n",
      "Processing Record 17 of Set 12 | jacksonville beach\n",
      "Processing Record 18 of Set 12 | kidal\n",
      "Processing Record 19 of Set 12 | olafsvik\n",
      "Processing Record 20 of Set 12 | borogontsy\n",
      "Processing Record 21 of Set 12 | leh\n",
      "Processing Record 22 of Set 12 | banmo\n",
      "City not found. Skipping...\n",
      "Processing Record 23 of Set 12 | lichinga\n",
      "Processing Record 24 of Set 12 | atar\n",
      "Processing Record 25 of Set 12 | athabasca\n",
      "Processing Record 26 of Set 12 | shimoda\n",
      "Processing Record 27 of Set 12 | trinidad\n",
      "Processing Record 28 of Set 12 | susuman\n",
      "Processing Record 29 of Set 12 | onguday\n",
      "Processing Record 30 of Set 12 | presidencia roque saenz pena\n",
      "Processing Record 31 of Set 12 | ranong\n",
      "Processing Record 32 of Set 12 | baie-saint-paul\n",
      "Processing Record 33 of Set 12 | novyy urengoy\n",
      "Processing Record 34 of Set 12 | witu\n",
      "Processing Record 35 of Set 12 | deputatskiy\n",
      "Processing Record 36 of Set 12 | mahbubnagar\n",
      "Processing Record 37 of Set 12 | esfarayen\n",
      "Processing Record 38 of Set 12 | porto franco\n",
      "Processing Record 39 of Set 12 | gamba\n",
      "Processing Record 40 of Set 12 | antsirabe\n",
      "Processing Record 41 of Set 12 | darnah\n",
      "Processing Record 42 of Set 12 | naryan-mar\n",
      "Processing Record 43 of Set 12 | hokitika\n",
      "Processing Record 44 of Set 12 | mizdah\n",
      "Processing Record 45 of Set 12 | gonzales\n",
      "Processing Record 46 of Set 12 | tiksi\n",
      "Processing Record 47 of Set 12 | lorengau\n",
      "Processing Record 48 of Set 12 | russell\n",
      "Processing Record 49 of Set 12 | auki\n",
      "Processing Record 1 of Set 13 | illapel\n",
      "Processing Record 2 of Set 13 | llata\n",
      "Processing Record 3 of Set 13 | diu\n",
      "Processing Record 4 of Set 13 | aktash\n",
      "Processing Record 5 of Set 13 | yinchuan\n",
      "Processing Record 6 of Set 13 | barabash\n",
      "Processing Record 7 of Set 13 | luderitz\n",
      "Processing Record 8 of Set 13 | xuddur\n",
      "Processing Record 9 of Set 13 | grand river south east\n",
      "City not found. Skipping...\n",
      "Processing Record 10 of Set 13 | donetsk\n",
      "Processing Record 11 of Set 13 | cartagena\n",
      "Processing Record 12 of Set 13 | jeremie\n",
      "Processing Record 13 of Set 13 | mbacke\n",
      "City not found. Skipping...\n",
      "Processing Record 14 of Set 13 | panzhihua\n",
      "Processing Record 15 of Set 13 | umm kaddadah\n",
      "Processing Record 16 of Set 13 | colac\n",
      "Processing Record 17 of Set 13 | hinton\n",
      "Processing Record 18 of Set 13 | vagur\n",
      "Processing Record 19 of Set 13 | kolosovka\n",
      "Processing Record 20 of Set 13 | balabac\n",
      "Processing Record 21 of Set 13 | vostok\n",
      "Processing Record 22 of Set 13 | misratah\n",
      "Processing Record 23 of Set 13 | fukue\n",
      "Processing Record 24 of Set 13 | sawtell\n",
      "Processing Record 25 of Set 13 | akhmeta\n",
      "Processing Record 26 of Set 13 | atambua\n",
      "Processing Record 27 of Set 13 | genc\n",
      "Processing Record 28 of Set 13 | miyako\n",
      "Processing Record 29 of Set 13 | sabang\n",
      "Processing Record 30 of Set 13 | ginir\n",
      "Processing Record 31 of Set 13 | ambilobe\n",
      "Processing Record 32 of Set 13 | dilla\n",
      "Processing Record 33 of Set 13 | cap malheureux\n",
      "Processing Record 34 of Set 13 | namatanai\n",
      "Processing Record 35 of Set 13 | kamenka\n",
      "Processing Record 36 of Set 13 | neijiang\n",
      "Processing Record 37 of Set 13 | stornoway\n",
      "Processing Record 38 of Set 13 | abu samrah\n",
      "-----------------------------\n",
      "Data Retrieval Complete\n",
      "-----------------------------\n"
     ]
    }
   ],
   "source": [
    "city_names = []\n",
    "lat = []\n",
    "lng = []\n",
    "max_temp = []\n",
    "hum = []\n",
    "cld_prc = []\n",
    "ws = []\n",
    "country = []\n",
    "date = []\n",
    "record_num = 1\n",
    "set_num = 1\n",
    "\n",
    "print(\"Beginning Data Retrieval\")     \n",
    "print(\"-----------------------------\")\n",
    "\n",
    "for city in cities:\n",
    "    query_url = f\"http://api.openweathermap.org/data/2.5/weather?appid={weather_api_key}&units=imperial&q=\"\n",
    "    \n",
    "    try:\n",
    "        print(f\"Processing Record {record_num} of Set {set_num} | {city}\")\n",
    "        \n",
    "        response = requests.get(query_url + city).json()\n",
    "        \n",
    "        city_names.append(response['name'])\n",
    "        lat.append(response['coord']['lat'])\n",
    "        lng.append(response['coord']['lon'])\n",
    "        max_temp.append(response['main']['temp'])\n",
    "        hum.append(response['main']['humidity'])\n",
    "        cld_prc.append(response['clouds']['all'])\n",
    "        ws.append(response['wind']['speed'])\n",
    "        country.append(response['sys']['country'])\n",
    "        date.append(response['dt'])\n",
    "                \n",
    "        if record_num == 49:\n",
    "            record_num = 1\n",
    "            set_num += 1\n",
    "        else:         \n",
    "            record_num += 1\n",
    "            \n",
    "    except:\n",
    "        print(f\"City not found. Skipping...\")\n",
    "        if record_num == 49:\n",
    "            record_num = 1\n",
    "            set_num += 1\n",
    "        else:         \n",
    "            record_num += 1\n",
    "        \n",
    "print(\"-----------------------------\")\n",
    "print(\"Data Retrieval Complete\")      \n",
    "print(\"-----------------------------\")   "
   ]
  },
  {
   "cell_type": "markdown",
   "metadata": {},
   "source": [
    "### Convert Raw Data to DataFrame\n",
    "* Export the city data into a .csv.\n",
    "* Display the DataFrame"
   ]
  },
  {
   "cell_type": "code",
   "execution_count": 6,
   "metadata": {},
   "outputs": [
    {
     "data": {
      "text/html": [
       "<div>\n",
       "<style scoped>\n",
       "    .dataframe tbody tr th:only-of-type {\n",
       "        vertical-align: middle;\n",
       "    }\n",
       "\n",
       "    .dataframe tbody tr th {\n",
       "        vertical-align: top;\n",
       "    }\n",
       "\n",
       "    .dataframe thead th {\n",
       "        text-align: right;\n",
       "    }\n",
       "</style>\n",
       "<table border=\"1\" class=\"dataframe\">\n",
       "  <thead>\n",
       "    <tr style=\"text-align: right;\">\n",
       "      <th></th>\n",
       "      <th>City</th>\n",
       "      <th>Lat</th>\n",
       "      <th>Lng</th>\n",
       "      <th>Max Temp</th>\n",
       "      <th>Humidity</th>\n",
       "      <th>Cloudiness</th>\n",
       "      <th>Wind Speed</th>\n",
       "      <th>Country</th>\n",
       "      <th>Date</th>\n",
       "    </tr>\n",
       "  </thead>\n",
       "  <tbody>\n",
       "    <tr>\n",
       "      <th>0</th>\n",
       "      <td>Jamestown</td>\n",
       "      <td>42.0970</td>\n",
       "      <td>-79.2353</td>\n",
       "      <td>57.31</td>\n",
       "      <td>86</td>\n",
       "      <td>75</td>\n",
       "      <td>17.27</td>\n",
       "      <td>US</td>\n",
       "      <td>1663870445</td>\n",
       "    </tr>\n",
       "    <tr>\n",
       "      <th>1</th>\n",
       "      <td>Norman Wells</td>\n",
       "      <td>65.2820</td>\n",
       "      <td>-126.8329</td>\n",
       "      <td>44.64</td>\n",
       "      <td>87</td>\n",
       "      <td>75</td>\n",
       "      <td>2.30</td>\n",
       "      <td>CA</td>\n",
       "      <td>1663870568</td>\n",
       "    </tr>\n",
       "    <tr>\n",
       "      <th>2</th>\n",
       "      <td>Vaini</td>\n",
       "      <td>-21.2000</td>\n",
       "      <td>-175.2000</td>\n",
       "      <td>75.56</td>\n",
       "      <td>87</td>\n",
       "      <td>91</td>\n",
       "      <td>17.11</td>\n",
       "      <td>TO</td>\n",
       "      <td>1663870590</td>\n",
       "    </tr>\n",
       "    <tr>\n",
       "      <th>3</th>\n",
       "      <td>Kapaa</td>\n",
       "      <td>22.0752</td>\n",
       "      <td>-159.3190</td>\n",
       "      <td>75.34</td>\n",
       "      <td>91</td>\n",
       "      <td>75</td>\n",
       "      <td>5.75</td>\n",
       "      <td>US</td>\n",
       "      <td>1663870615</td>\n",
       "    </tr>\n",
       "    <tr>\n",
       "      <th>4</th>\n",
       "      <td>Dengzhou</td>\n",
       "      <td>37.8086</td>\n",
       "      <td>120.7508</td>\n",
       "      <td>64.62</td>\n",
       "      <td>45</td>\n",
       "      <td>39</td>\n",
       "      <td>24.09</td>\n",
       "      <td>CN</td>\n",
       "      <td>1663870794</td>\n",
       "    </tr>\n",
       "    <tr>\n",
       "      <th>...</th>\n",
       "      <td>...</td>\n",
       "      <td>...</td>\n",
       "      <td>...</td>\n",
       "      <td>...</td>\n",
       "      <td>...</td>\n",
       "      <td>...</td>\n",
       "      <td>...</td>\n",
       "      <td>...</td>\n",
       "      <td>...</td>\n",
       "    </tr>\n",
       "    <tr>\n",
       "      <th>570</th>\n",
       "      <td>Namatanai</td>\n",
       "      <td>-3.6667</td>\n",
       "      <td>152.4333</td>\n",
       "      <td>77.16</td>\n",
       "      <td>79</td>\n",
       "      <td>52</td>\n",
       "      <td>3.58</td>\n",
       "      <td>PG</td>\n",
       "      <td>1663871082</td>\n",
       "    </tr>\n",
       "    <tr>\n",
       "      <th>571</th>\n",
       "      <td>Kamenka</td>\n",
       "      <td>51.3223</td>\n",
       "      <td>42.7678</td>\n",
       "      <td>57.52</td>\n",
       "      <td>96</td>\n",
       "      <td>100</td>\n",
       "      <td>3.40</td>\n",
       "      <td>RU</td>\n",
       "      <td>1663871082</td>\n",
       "    </tr>\n",
       "    <tr>\n",
       "      <th>572</th>\n",
       "      <td>Neijiang</td>\n",
       "      <td>29.5835</td>\n",
       "      <td>105.0622</td>\n",
       "      <td>65.70</td>\n",
       "      <td>93</td>\n",
       "      <td>100</td>\n",
       "      <td>7.94</td>\n",
       "      <td>CN</td>\n",
       "      <td>1663871083</td>\n",
       "    </tr>\n",
       "    <tr>\n",
       "      <th>573</th>\n",
       "      <td>Stornoway</td>\n",
       "      <td>58.2093</td>\n",
       "      <td>-6.3865</td>\n",
       "      <td>53.04</td>\n",
       "      <td>86</td>\n",
       "      <td>40</td>\n",
       "      <td>8.05</td>\n",
       "      <td>GB</td>\n",
       "      <td>1663871083</td>\n",
       "    </tr>\n",
       "    <tr>\n",
       "      <th>574</th>\n",
       "      <td>Abu Samrah</td>\n",
       "      <td>35.3029</td>\n",
       "      <td>37.1841</td>\n",
       "      <td>71.83</td>\n",
       "      <td>62</td>\n",
       "      <td>0</td>\n",
       "      <td>13.73</td>\n",
       "      <td>SY</td>\n",
       "      <td>1663871084</td>\n",
       "    </tr>\n",
       "  </tbody>\n",
       "</table>\n",
       "<p>575 rows × 9 columns</p>\n",
       "</div>"
      ],
      "text/plain": [
       "             City      Lat       Lng  Max Temp  Humidity  Cloudiness  \\\n",
       "0       Jamestown  42.0970  -79.2353     57.31        86          75   \n",
       "1    Norman Wells  65.2820 -126.8329     44.64        87          75   \n",
       "2           Vaini -21.2000 -175.2000     75.56        87          91   \n",
       "3           Kapaa  22.0752 -159.3190     75.34        91          75   \n",
       "4        Dengzhou  37.8086  120.7508     64.62        45          39   \n",
       "..            ...      ...       ...       ...       ...         ...   \n",
       "570     Namatanai  -3.6667  152.4333     77.16        79          52   \n",
       "571       Kamenka  51.3223   42.7678     57.52        96         100   \n",
       "572      Neijiang  29.5835  105.0622     65.70        93         100   \n",
       "573     Stornoway  58.2093   -6.3865     53.04        86          40   \n",
       "574    Abu Samrah  35.3029   37.1841     71.83        62           0   \n",
       "\n",
       "     Wind Speed Country        Date  \n",
       "0         17.27      US  1663870445  \n",
       "1          2.30      CA  1663870568  \n",
       "2         17.11      TO  1663870590  \n",
       "3          5.75      US  1663870615  \n",
       "4         24.09      CN  1663870794  \n",
       "..          ...     ...         ...  \n",
       "570        3.58      PG  1663871082  \n",
       "571        3.40      RU  1663871082  \n",
       "572        7.94      CN  1663871083  \n",
       "573        8.05      GB  1663871083  \n",
       "574       13.73      SY  1663871084  \n",
       "\n",
       "[575 rows x 9 columns]"
      ]
     },
     "execution_count": 6,
     "metadata": {},
     "output_type": "execute_result"
    }
   ],
   "source": [
    "df = pd.DataFrame(list(zip(city_names, lat, lng, max_temp, hum, cld_prc, ws, country, date)), columns = [\"City\", \"Lat\", \"Lng\", \"Max Temp\", \"Humidity\", \"Cloudiness\", \"Wind Speed\", \"Country\", \"Date\"])\n",
    "df"
   ]
  },
  {
   "cell_type": "code",
   "execution_count": 7,
   "metadata": {},
   "outputs": [],
   "source": [
    "df.to_csv(\"../output_data/city_weather_data.csv\")"
   ]
  },
  {
   "cell_type": "code",
   "execution_count": 8,
   "metadata": {},
   "outputs": [
    {
     "data": {
      "text/html": [
       "<div>\n",
       "<style scoped>\n",
       "    .dataframe tbody tr th:only-of-type {\n",
       "        vertical-align: middle;\n",
       "    }\n",
       "\n",
       "    .dataframe tbody tr th {\n",
       "        vertical-align: top;\n",
       "    }\n",
       "\n",
       "    .dataframe thead th {\n",
       "        text-align: right;\n",
       "    }\n",
       "</style>\n",
       "<table border=\"1\" class=\"dataframe\">\n",
       "  <thead>\n",
       "    <tr style=\"text-align: right;\">\n",
       "      <th></th>\n",
       "      <th>Lat</th>\n",
       "      <th>Lng</th>\n",
       "      <th>Max Temp</th>\n",
       "      <th>Humidity</th>\n",
       "      <th>Cloudiness</th>\n",
       "      <th>Wind Speed</th>\n",
       "    </tr>\n",
       "  </thead>\n",
       "  <tbody>\n",
       "    <tr>\n",
       "      <th>count</th>\n",
       "      <td>575.000000</td>\n",
       "      <td>575.000000</td>\n",
       "      <td>575.000000</td>\n",
       "      <td>575.000000</td>\n",
       "      <td>575.000000</td>\n",
       "      <td>575.000000</td>\n",
       "    </tr>\n",
       "    <tr>\n",
       "      <th>mean</th>\n",
       "      <td>20.018939</td>\n",
       "      <td>24.202807</td>\n",
       "      <td>64.797130</td>\n",
       "      <td>70.066087</td>\n",
       "      <td>58.504348</td>\n",
       "      <td>8.148191</td>\n",
       "    </tr>\n",
       "    <tr>\n",
       "      <th>std</th>\n",
       "      <td>33.754646</td>\n",
       "      <td>91.367487</td>\n",
       "      <td>17.053544</td>\n",
       "      <td>23.394641</td>\n",
       "      <td>37.767115</td>\n",
       "      <td>5.764587</td>\n",
       "    </tr>\n",
       "    <tr>\n",
       "      <th>min</th>\n",
       "      <td>-54.800000</td>\n",
       "      <td>-175.200000</td>\n",
       "      <td>17.350000</td>\n",
       "      <td>6.000000</td>\n",
       "      <td>0.000000</td>\n",
       "      <td>0.000000</td>\n",
       "    </tr>\n",
       "    <tr>\n",
       "      <th>25%</th>\n",
       "      <td>-7.944300</td>\n",
       "      <td>-58.693500</td>\n",
       "      <td>51.960000</td>\n",
       "      <td>55.500000</td>\n",
       "      <td>20.000000</td>\n",
       "      <td>3.990000</td>\n",
       "    </tr>\n",
       "    <tr>\n",
       "      <th>50%</th>\n",
       "      <td>24.144700</td>\n",
       "      <td>29.250000</td>\n",
       "      <td>66.520000</td>\n",
       "      <td>77.000000</td>\n",
       "      <td>75.000000</td>\n",
       "      <td>6.620000</td>\n",
       "    </tr>\n",
       "    <tr>\n",
       "      <th>75%</th>\n",
       "      <td>48.879650</td>\n",
       "      <td>108.430400</td>\n",
       "      <td>77.280000</td>\n",
       "      <td>89.000000</td>\n",
       "      <td>96.000000</td>\n",
       "      <td>11.220000</td>\n",
       "    </tr>\n",
       "    <tr>\n",
       "      <th>max</th>\n",
       "      <td>78.218600</td>\n",
       "      <td>178.416700</td>\n",
       "      <td>105.350000</td>\n",
       "      <td>100.000000</td>\n",
       "      <td>100.000000</td>\n",
       "      <td>40.000000</td>\n",
       "    </tr>\n",
       "  </tbody>\n",
       "</table>\n",
       "</div>"
      ],
      "text/plain": [
       "              Lat         Lng    Max Temp    Humidity  Cloudiness  Wind Speed\n",
       "count  575.000000  575.000000  575.000000  575.000000  575.000000  575.000000\n",
       "mean    20.018939   24.202807   64.797130   70.066087   58.504348    8.148191\n",
       "std     33.754646   91.367487   17.053544   23.394641   37.767115    5.764587\n",
       "min    -54.800000 -175.200000   17.350000    6.000000    0.000000    0.000000\n",
       "25%     -7.944300  -58.693500   51.960000   55.500000   20.000000    3.990000\n",
       "50%     24.144700   29.250000   66.520000   77.000000   75.000000    6.620000\n",
       "75%     48.879650  108.430400   77.280000   89.000000   96.000000   11.220000\n",
       "max     78.218600  178.416700  105.350000  100.000000  100.000000   40.000000"
      ]
     },
     "execution_count": 8,
     "metadata": {},
     "output_type": "execute_result"
    }
   ],
   "source": [
    "summary_df = df[[\"Lat\", \"Lng\", \"Max Temp\", \"Humidity\", \"Cloudiness\", \"Wind Speed\", \"Country\"]].describe()\n",
    "summary_df"
   ]
  },
  {
   "cell_type": "markdown",
   "metadata": {},
   "source": [
    "## Inspect the data and remove the cities where the humidity > 100%.\n",
    "----\n",
    "Skip this step if there are no cities that have humidity > 100%. "
   ]
  },
  {
   "cell_type": "code",
   "execution_count": 11,
   "metadata": {},
   "outputs": [
    {
     "data": {
      "text/plain": [
       "0"
      ]
     },
     "execution_count": 11,
     "metadata": {},
     "output_type": "execute_result"
    }
   ],
   "source": [
    "over100 = 0\n",
    "hum_list = df[\"Humidity\"].tolist()\n",
    "for i in hum_list:\n",
    "    if i > 100:\n",
    "        over100 += 1\n",
    "over100"
   ]
  },
  {
   "cell_type": "markdown",
   "metadata": {},
   "source": [
    "## Plotting the Data\n",
    "* Use proper labeling of the plots using plot titles (including date of analysis) and axes labels.\n",
    "* Save the plotted figures as .pngs."
   ]
  },
  {
   "cell_type": "markdown",
   "metadata": {},
   "source": [
    "## Latitude vs. Temperature Plot"
   ]
  },
  {
   "cell_type": "code",
   "execution_count": 28,
   "metadata": {
    "tags": []
   },
   "outputs": [
    {
     "data": {
      "image/png": "[encoded data removed]",
      "text/plain": [
       "<Figure size 432x288 with 1 Axes>"
      ]
     },
     "metadata": {
      "needs_background": "light"
     },
     "output_type": "display_data"
    }
   ],
   "source": [
    "plt.scatter(df[\"Lat\"], df[\"Max Temp\"], edgecolors=\"black\")\n",
    "plt.title(\"City Latitude vs. Max Temperature 9/22/2022\")\n",
    "plt.xlabel(\"Latitude\")\n",
    "plt.ylabel(\"Max Temperature (F)\")\n",
    "\n",
    "plt.grid()\n",
    "plt.savefig(\"../output_data/lat_temp.png\")\n",
    "\n",
    "plt.show()"
   ]
  },
  {
   "cell_type": "code",
   "execution_count": 1,
   "metadata": {},
   "outputs": [],
   "source": [
    "#Relationship between latitude and max temp on 9/22/2022. Temps go up the closer lat gets to 0 (the equator)."
   ]
  },
  {
   "cell_type": "markdown",
   "metadata": {},
   "source": [
    "## Latitude vs. Humidity Plot"
   ]
  },
  {
   "cell_type": "code",
   "execution_count": 29,
   "metadata": {},
   "outputs": [
    {
     "data": {
      "image/png": "[encoded data removed]",
      "text/plain": [
       "<Figure size 432x288 with 1 Axes>"
      ]
     },
     "metadata": {
      "needs_background": "light"
     },
     "output_type": "display_data"
    }
   ],
   "source": [
    "plt.scatter(df[\"Lat\"], df[\"Humidity\"], c=\"red\", edgecolors=\"black\")\n",
    "plt.title(\"City Latitude vs. Humidity 9/22/2022\")\n",
    "plt.xlabel(\"Latitude\")\n",
    "plt.ylabel(\"Humidity\")\n",
    "\n",
    "plt.grid()\n",
    "plt.savefig(\"../output_data/lat_hum.png\")\n",
    "\n",
    "plt.show()"
   ]
  },
  {
   "cell_type": "code",
   "execution_count": 2,
   "metadata": {},
   "outputs": [],
   "source": [
    "#Relationship between latitude and humidity on 9/22/2022. No relation."
   ]
  },
  {
   "cell_type": "markdown",
   "metadata": {},
   "source": [
    "## Latitude vs. Cloudiness Plot"
   ]
  },
  {
   "cell_type": "code",
   "execution_count": 30,
   "metadata": {
    "jupyter": {
     "source_hidden": true
    },
    "tags": []
   },
   "outputs": [
    {
     "data": {
      "image/png": "[encoded data removed]",
      "text/plain": [
       "<Figure size 432x288 with 1 Axes>"
      ]
     },
     "metadata": {
      "needs_background": "light"
     },
     "output_type": "display_data"
    }
   ],
   "source": [
    "plt.scatter(df[\"Lat\"], df[\"Cloudiness\"], c=\"green\", edgecolors=\"black\")\n",
    "plt.title(\"City Latitude vs. Cloudiness 9/22/2022\")\n",
    "plt.xlabel(\"Latitude\")\n",
    "plt.ylabel(\"Cloudiness\")\n",
    "\n",
    "plt.grid()\n",
    "plt.savefig(\"../output_data/lat_cld.png\")\n",
    "\n",
    "plt.show()"
   ]
  },
  {
   "cell_type": "code",
   "execution_count": 3,
   "metadata": {},
   "outputs": [],
   "source": [
    "#Relationship between latitude and cloudiness on 9/22/2022. No relation."
   ]
  },
  {
   "cell_type": "markdown",
   "metadata": {},
   "source": [
    "## Latitude vs. Wind Speed Plot"
   ]
  },
  {
   "cell_type": "code",
   "execution_count": 31,
   "metadata": {},
   "outputs": [
    {
     "data": {
      "image/png": "[encoded data removed]",
      "text/plain": [
       "<Figure size 432x288 with 1 Axes>"
      ]
     },
     "metadata": {
      "needs_background": "light"
     },
     "output_type": "display_data"
    }
   ],
   "source": [
    "plt.scatter(df[\"Lat\"], df[\"Wind Speed\"], c=\"purple\", edgecolors=\"black\")\n",
    "plt.title(\"City Latitude vs. Wind Speed 9/22/2022\")\n",
    "plt.xlabel(\"Latitude\")\n",
    "plt.ylabel(\"Wind Speed\")\n",
    "\n",
    "plt.grid()\n",
    "plt.savefig(\"../output_data/lat_ws.png\")\n",
    "\n",
    "plt.show()"
   ]
  },
  {
   "cell_type": "code",
   "execution_count": 4,
   "metadata": {},
   "outputs": [],
   "source": [
    "#Relationship between latitude and windspeed on 9/22/2022. No relation."
   ]
  },
  {
   "cell_type": "markdown",
   "metadata": {},
   "source": [
    "## Linear Regression"
   ]
  },
  {
   "cell_type": "markdown",
   "metadata": {},
   "source": [
    "####  Northern Hemisphere - Max Temp vs. Latitude Linear Regression"
   ]
  },
  {
   "cell_type": "code",
   "execution_count": 36,
   "metadata": {},
   "outputs": [
    {
     "name": "stdout",
     "output_type": "stream",
     "text": [
      "The r-value is: -0.8338381791896919\n"
     ]
    },
    {
     "data": {
      "image/png": "[encoded data removed]",
      "text/plain": [
       "<Figure size 432x288 with 1 Axes>"
      ]
     },
     "metadata": {
      "needs_background": "light"
     },
     "output_type": "display_data"
    }
   ],
   "source": [
    "n_df = df.loc[df[\"Lat\"] >= 0]\n",
    "\n",
    "x = n_df[\"Lat\"]\n",
    "y = n_df[\"Max Temp\"]\n",
    "\n",
    "plt.scatter(x, y)\n",
    "plt.xlabel(\"Latitude\")\n",
    "plt.ylabel(\"Max Temp\")\n",
    "\n",
    "(slope, intercept, rvalue, pvalue, stderr) = linregress(x, y)\n",
    "regress_values = x * slope + intercept\n",
    "line_eq = \"y = \" + str(round(slope,2)) + \"x + \" + str(round(intercept,2))\n",
    "plt.plot(x,regress_values,\"r-\")\n",
    "plt.annotate(line_eq,(5,25),fontsize=15,color=\"red\")\n",
    "print(f\"The r-value is: {rvalue}\")\n",
    "\n",
    "plt.savefig(\"../output_data/n_lat_temp.png\")\n",
    "plt.show()"
   ]
  },
  {
   "cell_type": "code",
   "execution_count": 5,
   "metadata": {},
   "outputs": [],
   "source": [
    "#As latitude increases in the northern hemisphere, temperatures goes down. This is a relatively strong correlation based on the absolute value of r being close to 1 (perfect correlation)."
   ]
  },
  {
   "cell_type": "markdown",
   "metadata": {},
   "source": [
    "####  Southern Hemisphere - Max Temp vs. Latitude Linear Regression"
   ]
  },
  {
   "cell_type": "code",
   "execution_count": 41,
   "metadata": {},
   "outputs": [
    {
     "name": "stdout",
     "output_type": "stream",
     "text": [
      "The r-value is: 0.7960641857703358\n"
     ]
    },
    {
     "data": {
      "image/png": "[encoded data removed]",
      "text/plain": [
       "<Figure size 432x288 with 1 Axes>"
      ]
     },
     "metadata": {
      "needs_background": "light"
     },
     "output_type": "display_data"
    }
   ],
   "source": [
    "s_df = df.loc[df[\"Lat\"] < 0]\n",
    "\n",
    "x = s_df[\"Lat\"]\n",
    "y = s_df[\"Max Temp\"]\n",
    "\n",
    "plt.scatter(x, y, c=\"red\")\n",
    "plt.xlabel(\"Latitude\")\n",
    "plt.ylabel(\"Max Temp\")\n",
    "\n",
    "(slope, intercept, rvalue, pvalue, stderr) = linregress(x, y)\n",
    "regress_values = x * slope + intercept\n",
    "line_eq = \"y = \" + str(round(slope,2)) + \"x + \" + str(round(intercept,2))\n",
    "plt.plot(x,regress_values, c=\"blue\")\n",
    "plt.annotate(line_eq,(-50, 90),fontsize=15,color=\"blue\")\n",
    "print(f\"The r-value is: {rvalue}\")\n",
    "\n",
    "plt.savefig(\"../output_data/s_lat_temp.png\")\n",
    "plt.show()"
   ]
  },
  {
   "cell_type": "code",
   "execution_count": 6,
   "metadata": {},
   "outputs": [],
   "source": [
    "#As latitude increases in the southern hemisphere, temperatures goes up. This is a relatively strong correlation based on the absolute value of r being close to 1 (perfect correlation)."
   ]
  },
  {
   "cell_type": "markdown",
   "metadata": {},
   "source": [
    "####  Northern Hemisphere - Humidity (%) vs. Latitude Linear Regression"
   ]
  },
  {
   "cell_type": "code",
   "execution_count": 48,
   "metadata": {},
   "outputs": [
    {
     "name": "stdout",
     "output_type": "stream",
     "text": [
      "The r-value is: 0.1454995630688393\n"
     ]
    },
    {
     "data": {
      "image/png": "[encoded data removed]",
      "text/plain": [
       "<Figure size 432x288 with 1 Axes>"
      ]
     },
     "metadata": {
      "needs_background": "light"
     },
     "output_type": "display_data"
    }
   ],
   "source": [
    "x = n_df[\"Lat\"]\n",
    "y = n_df[\"Humidity\"]\n",
    "\n",
    "plt.scatter(x, y)\n",
    "plt.xlabel(\"Latitude\")\n",
    "plt.ylabel(\"Humidity\")\n",
    "\n",
    "(slope, intercept, rvalue, pvalue, stderr) = linregress(x, y)\n",
    "regress_values = x * slope + intercept\n",
    "line_eq = \"y = \" + str(round(slope,2)) + \"x + \" + str(round(intercept,2))\n",
    "plt.plot(x,regress_values,\"r-\")\n",
    "plt.annotate(line_eq,(45,10),fontsize=15,color=\"red\")\n",
    "print(f\"The r-value is: {rvalue}\")\n",
    "\n",
    "plt.savefig(\"../output_data/n_lat_hum.png\")\n",
    "plt.show()"
   ]
  },
  {
   "cell_type": "code",
   "execution_count": 7,
   "metadata": {},
   "outputs": [],
   "source": [
    "#No correlation between latitude and humidity in the northern hemisphere."
   ]
  },
  {
   "cell_type": "markdown",
   "metadata": {},
   "source": [
    "####  Southern Hemisphere - Humidity (%) vs. Latitude Linear Regression"
   ]
  },
  {
   "cell_type": "code",
   "execution_count": 52,
   "metadata": {},
   "outputs": [
    {
     "name": "stdout",
     "output_type": "stream",
     "text": [
      "The r-value is: -0.07952861924949506\n"
     ]
    },
    {
     "data": {
      "image/png": "[encoded data removed]",
      "text/plain": [
       "<Figure size 432x288 with 1 Axes>"
      ]
     },
     "metadata": {
      "needs_background": "light"
     },
     "output_type": "display_data"
    }
   ],
   "source": [
    "x = s_df[\"Lat\"]\n",
    "y = s_df[\"Humidity\"]\n",
    "\n",
    "plt.scatter(x, y, c=\"red\")\n",
    "plt.xlabel(\"Latitude\")\n",
    "plt.ylabel(\"Humidity\")\n",
    "\n",
    "(slope, intercept, rvalue, pvalue, stderr) = linregress(x, y)\n",
    "regress_values = x * slope + intercept\n",
    "line_eq = \"y = \" + str(round(slope,2)) + \"x + \" + str(round(intercept,2))\n",
    "plt.plot(x,regress_values, c=\"blue\")\n",
    "plt.annotate(line_eq,(-55, 5),fontsize=15,color=\"blue\")\n",
    "print(f\"The r-value is: {rvalue}\")\n",
    "\n",
    "plt.savefig(\"../output_data/s_lat_hum.png\")\n",
    "plt.show()"
   ]
  },
  {
   "cell_type": "code",
   "execution_count": 8,
   "metadata": {},
   "outputs": [],
   "source": [
    "#No correlation between latitude and humidity in the southern hemisphere."
   ]
  },
  {
   "cell_type": "markdown",
   "metadata": {},
   "source": [
    "####  Northern Hemisphere - Cloudiness (%) vs. Latitude Linear Regression"
   ]
  },
  {
   "cell_type": "code",
   "execution_count": 56,
   "metadata": {},
   "outputs": [
    {
     "name": "stdout",
     "output_type": "stream",
     "text": [
      "The r-value is: 0.10065432007442286\n"
     ]
    },
    {
     "data": {
      "image/png": "[encoded data removed]",
      "text/plain": [
       "<Figure size 432x288 with 1 Axes>"
      ]
     },
     "metadata": {
      "needs_background": "light"
     },
     "output_type": "display_data"
    }
   ],
   "source": [
    "x = n_df[\"Lat\"]\n",
    "y = n_df[\"Cloudiness\"]\n",
    "\n",
    "plt.scatter(x, y)\n",
    "plt.xlabel(\"Latitude\")\n",
    "plt.ylabel(\"Cloudiness\")\n",
    "\n",
    "(slope, intercept, rvalue, pvalue, stderr) = linregress(x, y)\n",
    "regress_values = x * slope + intercept\n",
    "line_eq = \"y = \" + str(round(slope,2)) + \"x + \" + str(round(intercept,2))\n",
    "plt.plot(x,regress_values,\"r-\")\n",
    "plt.annotate(line_eq,(45,47),fontsize=15,color=\"red\")\n",
    "print(f\"The r-value is: {rvalue}\")\n",
    "\n",
    "plt.savefig(\"../output_data/n_lat_cld.png\")\n",
    "plt.show()"
   ]
  },
  {
   "cell_type": "code",
   "execution_count": 11,
   "metadata": {},
   "outputs": [],
   "source": [
    "#No correlation between latitude and cloudiness in the northern hemisphere."
   ]
  },
  {
   "cell_type": "markdown",
   "metadata": {},
   "source": [
    "####  Southern Hemisphere - Cloudiness (%) vs. Latitude Linear Regression"
   ]
  },
  {
   "cell_type": "code",
   "execution_count": 57,
   "metadata": {},
   "outputs": [
    {
     "name": "stdout",
     "output_type": "stream",
     "text": [
      "The r-value is: 0.08426157471714443\n"
     ]
    },
    {
     "data": {
      "image/png": "[encoded data removed]",
      "text/plain": [
       "<Figure size 432x288 with 1 Axes>"
      ]
     },
     "metadata": {
      "needs_background": "light"
     },
     "output_type": "display_data"
    }
   ],
   "source": [
    "x = s_df[\"Lat\"]\n",
    "y = s_df[\"Cloudiness\"]\n",
    "\n",
    "plt.scatter(x, y, c=\"red\")\n",
    "plt.xlabel(\"Latitude\")\n",
    "plt.ylabel(\"Cloudiness\")\n",
    "\n",
    "(slope, intercept, rvalue, pvalue, stderr) = linregress(x, y)\n",
    "regress_values = x * slope + intercept\n",
    "line_eq = \"y = \" + str(round(slope,2)) + \"x + \" + str(round(intercept,2))\n",
    "plt.plot(x,regress_values, c=\"blue\")\n",
    "plt.annotate(line_eq,(-55, 5),fontsize=15,color=\"blue\")\n",
    "print(f\"The r-value is: {rvalue}\")\n",
    "\n",
    "plt.savefig(\"../output_data/s_lat_cld.png\")\n",
    "plt.show()"
   ]
  },
  {
   "cell_type": "code",
   "execution_count": 10,
   "metadata": {},
   "outputs": [],
   "source": [
    "#No correlation between latitude and cloudiness in the southern hemisphere."
   ]
  },
  {
   "cell_type": "markdown",
   "metadata": {},
   "source": [
    "####  Northern Hemisphere - Wind Speed (mph) vs. Latitude Linear Regression"
   ]
  },
  {
   "cell_type": "code",
   "execution_count": 59,
   "metadata": {},
   "outputs": [
    {
     "name": "stdout",
     "output_type": "stream",
     "text": [
      "The r-value is: 0.1210398426655756\n"
     ]
    },
    {
     "data": {
      "image/png": "[encoded data removed]",
      "text/plain": [
       "<Figure size 432x288 with 1 Axes>"
      ]
     },
     "metadata": {
      "needs_background": "light"
     },
     "output_type": "display_data"
    }
   ],
   "source": [
    "x = n_df[\"Lat\"]\n",
    "y = n_df[\"Wind Speed\"]\n",
    "\n",
    "plt.scatter(x, y)\n",
    "plt.xlabel(\"Latitude\")\n",
    "plt.ylabel(\"Wind Speed\")\n",
    "\n",
    "(slope, intercept, rvalue, pvalue, stderr) = linregress(x, y)\n",
    "regress_values = x * slope + intercept\n",
    "line_eq = \"y = \" + str(round(slope,2)) + \"x + \" + str(round(intercept,2))\n",
    "plt.plot(x,regress_values,\"r-\")\n",
    "plt.annotate(line_eq,(5,35),fontsize=15,color=\"red\")\n",
    "print(f\"The r-value is: {rvalue}\")\n",
    "\n",
    "plt.savefig(\"../output_data/n_lat_ws.png\")\n",
    "plt.show()"
   ]
  },
  {
   "cell_type": "code",
   "execution_count": 9,
   "metadata": {},
   "outputs": [],
   "source": [
    "#No correlation between latitude and windspeed in the northern hemisphere."
   ]
  },
  {
   "cell_type": "markdown",
   "metadata": {},
   "source": [
    "####  Southern Hemisphere - Wind Speed (mph) vs. Latitude Linear Regression"
   ]
  },
  {
   "cell_type": "code",
   "execution_count": 63,
   "metadata": {},
   "outputs": [
    {
     "name": "stdout",
     "output_type": "stream",
     "text": [
      "The r-value is: -0.03019366214592873\n"
     ]
    },
    {
     "data": {
      "image/png": "[encoded data removed]",
      "text/plain": [
       "<Figure size 432x288 with 1 Axes>"
      ]
     },
     "metadata": {
      "needs_background": "light"
     },
     "output_type": "display_data"
    }
   ],
   "source": [
    "x = s_df[\"Lat\"]\n",
    "y = s_df[\"Wind Speed\"]\n",
    "\n",
    "plt.scatter(x, y, c=\"red\")\n",
    "plt.xlabel(\"Latitude\")\n",
    "plt.ylabel(\"Wind Speed\")\n",
    "\n",
    "(slope, intercept, rvalue, pvalue, stderr) = linregress(x, y)\n",
    "regress_values = x * slope + intercept\n",
    "line_eq = \"y = \" + str(round(slope,2)) + \"x + \" + str(round(intercept,2))\n",
    "plt.plot(x,regress_values, c=\"blue\")\n",
    "plt.annotate(line_eq,(-55, 16),fontsize=15,color=\"blue\")\n",
    "print(f\"The r-value is: {rvalue}\")\n",
    "\n",
    "plt.savefig(\"../output_data/s_lat_ws.png\")\n",
    "plt.show()"
   ]
  },
  {
   "cell_type": "code",
   "execution_count": null,
   "metadata": {},
   "outputs": [],
   "source": [
    "#No correlation between latitude and windspeed in the southern hemisphere."
   ]
  },
  {
   "cell_type": "code",
   "execution_count": null,
   "metadata": {},
   "outputs": [],
   "source": [
    "#Three obserable trends:\n",
    "#    1) In the northern hemisphere, latitude and temperature are negatively correlated, but in the southern hemisphere the same measurements are positively correlated.\n",
    "#       This is due to 0 latitude being the equator and temperatures are higher the nearer one is.\n",
    "#    2) None of the other comparisons with latitude show a correlation (humidity, windspeed, cloudiness). I anticipated humidity to be higher where the max temp is high,\n",
    "#       but this was not the case.\n",
    "#    3) Percipitation was not a gathered statistic in this example, but could show correlation with latitude and would fit nicely with this dataset."
   ]
  }
 ],
 "metadata": {
  "anaconda-cloud": {},
  "kernel_info": {
   "name": "python3"
  },
  "kernelspec": {
   "display_name": "Python 3 (ipykernel)",
   "language": "python",
   "name": "python3"
  },
  "language_info": {
   "codemirror_mode": {
    "name": "ipython",
    "version": 3
   },
   "file_extension": ".py",
   "mimetype": "text/x-python",
   "name": "python",
   "nbconvert_exporter": "python",
   "pygments_lexer": "ipython3",
   "version": "3.9.7"
  },
  "latex_envs": {
   "LaTeX_envs_menu_present": true,
   "autoclose": false,
   "autocomplete": true,
   "bibliofile": "biblio.bib",
   "cite_by": "apalike",
   "current_citInitial": 1,
   "eqLabelWithNumbers": true,
   "eqNumInitial": 1,
   "hotkeys": {
    "equation": "Ctrl-E",
    "itemize": "Ctrl-I"
   },
   "labels_anchors": false,
   "latex_user_defs": false,
   "report_style_numbering": false,
   "user_envs_cfg": false
  },
  "nteract": {
   "version": "0.12.3"
  }
 },
 "nbformat": 4,
 "nbformat_minor": 4
}
